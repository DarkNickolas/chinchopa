{
 "cells": [
  {
   "cell_type": "code",
   "execution_count": 9,
   "metadata": {},
   "outputs": [
    {
     "name": "stdout",
     "output_type": "stream",
     "text": [
      "Name1\n",
      "Name2\n",
      "Name3\n",
      "Name4\n",
      "Name5\n"
     ]
    }
   ],
   "source": [
    "class EmptyClass:\n",
    "    pass\n",
    "\n",
    "\n",
    "def main():\n",
    "    for i in range(5):\n",
    "        # Створюємо об'єкт класу EmptyClass\n",
    "        name = EmptyClass()\n",
    "\n",
    "        # Динамічно ініціалізуємо об'єкт типу Name\n",
    "        name.name = f\"Name{i + 1}\"\n",
    "\n",
    "        # Виводимо текст\n",
    "        print(f\"{name.name}\")\n",
    "\n",
    "\n",
    "if __name__ == \"__main__\":\n",
    "    main()\n"
   ]
  }
 ],
 "metadata": {
  "kernelspec": {
   "display_name": "Python 3",
   "language": "python",
   "name": "python3"
  },
  "language_info": {
   "codemirror_mode": {
    "name": "ipython",
    "version": 3
   },
   "file_extension": ".py",
   "mimetype": "text/x-python",
   "name": "python",
   "nbconvert_exporter": "python",
   "pygments_lexer": "ipython3",
   "version": "3.11.5"
  }
 },
 "nbformat": 4,
 "nbformat_minor": 2
}

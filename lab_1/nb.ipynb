{
 "cells": [
  {
   "cell_type": "markdown",
   "metadata": {},
   "source": [
    "###Працюємо з програмою на Python в інтерактивному режимі\n",
    ">будемо пояснювати код програми у кожній комірці"
   ]
  },
  {
   "cell_type": "markdown",
   "metadata": {},
   "source": [
    "-комірка здійснює імпорт всіх необхідних для роботи бібліотеки"
   ]
  },
  {
   "cell_type": "code",
   "execution_count": 3,
   "metadata": {},
   "outputs": [],
   "source": [
    "from datetime import datetime"
   ]
  },
  {
   "cell_type": "markdown",
   "metadata": {},
   "source": [
    "-комірка задає змінні:"
   ]
  },
  {
   "cell_type": "code",
   "execution_count": 4,
   "metadata": {},
   "outputs": [],
   "source": [
    "name = \"Nick\"\n",
    "location = \"Lviv\""
   ]
  },
  {
   "cell_type": "markdown",
   "metadata": {},
   "source": [
    "-здійснимо вивід тексту за допомогою команди print"
   ]
  },
  {
   "cell_type": "code",
   "execution_count": 5,
   "metadata": {},
   "outputs": [
    {
     "name": "stdout",
     "output_type": "stream",
     "text": [
      " Nick start programming at 2023-09-20 12:27:55.376191. Lviv is the best city!\n"
     ]
    }
   ],
   "source": [
    "print (f\" {name} start programming at {datetime.now()}. {location} is the best city!\")"
   ]
  }
 ],
 "metadata": {
  "kernelspec": {
   "display_name": "Python 3",
   "language": "python",
   "name": "python3"
  },
  "language_info": {
   "codemirror_mode": {
    "name": "ipython",
    "version": 3
   },
   "file_extension": ".py",
   "mimetype": "text/x-python",
   "name": "python",
   "nbconvert_exporter": "python",
   "pygments_lexer": "ipython3",
   "version": "3.11.5"
  },
  "orig_nbformat": 4
 },
 "nbformat": 4,
 "nbformat_minor": 2
}
